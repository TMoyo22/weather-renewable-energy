{
 "cells": [
  {
   "cell_type": "code",
   "execution_count": 1,
   "metadata": {},
   "outputs": [],
   "source": [
    "#Importing pandas to be able to view the read the csv file\n",
    "import pandas as pd\n",
    "\n",
    "dataset_path = \"../Dataset/Renewable.csv\"\n",
    "data_frame = pd.read_csv(dataset_path)"
   ]
  },
  {
   "cell_type": "code",
   "execution_count": 2,
   "metadata": {},
   "outputs": [
    {
     "name": "stdout",
     "output_type": "stream",
     "text": [
      "                       Time  Energy delta[Wh]   GHI  temp  pressure  humidity  \\\n",
      "0       2017-01-01 00:00:00                 0   0.0   1.6      1021       100   \n",
      "1       2017-01-01 00:15:00                 0   0.0   1.6      1021       100   \n",
      "2       2017-01-01 00:30:00                 0   0.0   1.6      1021       100   \n",
      "3       2017-01-01 00:45:00                 0   0.0   1.6      1021       100   \n",
      "4       2017-01-01 01:00:00                 0   0.0   1.7      1020       100   \n",
      "...                     ...               ...   ...   ...       ...       ...   \n",
      "196771  2022-08-31 16:45:00               118  23.7  18.6      1023        57   \n",
      "196772  2022-08-31 17:00:00                82  15.6  18.5      1023        61   \n",
      "196773  2022-08-31 17:15:00                51   8.0  18.5      1023        61   \n",
      "196774  2022-08-31 17:30:00                24   2.1  18.5      1023        61   \n",
      "196775  2022-08-31 17:45:00                 0   0.0  18.5      1023        61   \n",
      "\n",
      "        wind_speed  rain_1h  snow_1h  clouds_all  isSun  sunlightTime  \\\n",
      "0              4.9      0.0      0.0         100      0             0   \n",
      "1              4.9      0.0      0.0         100      0             0   \n",
      "2              4.9      0.0      0.0         100      0             0   \n",
      "3              4.9      0.0      0.0         100      0             0   \n",
      "4              5.2      0.0      0.0         100      0             0   \n",
      "...            ...      ...      ...         ...    ...           ...   \n",
      "196771         3.8      0.0      0.0          52      1           780   \n",
      "196772         4.2      0.0      0.0          60      1           795   \n",
      "196773         4.2      0.0      0.0          60      1           810   \n",
      "196774         4.2      0.0      0.0          60      1           825   \n",
      "196775         4.2      0.0      0.0          60      0             0   \n",
      "\n",
      "        dayLength  SunlightTime/daylength  weather_type  hour  month  \n",
      "0             450                    0.00             4     0      1  \n",
      "1             450                    0.00             4     0      1  \n",
      "2             450                    0.00             4     0      1  \n",
      "3             450                    0.00             4     0      1  \n",
      "4             450                    0.00             4     1      1  \n",
      "...           ...                     ...           ...   ...    ...  \n",
      "196771        825                    0.95             3    16      8  \n",
      "196772        825                    0.96             3    17      8  \n",
      "196773        825                    0.98             3    17      8  \n",
      "196774        825                    1.00             3    17      8  \n",
      "196775        825                    0.00             3    17      8  \n",
      "\n",
      "[196776 rows x 17 columns]\n"
     ]
    }
   ],
   "source": [
    "print(data_frame)"
   ]
  }
 ],
 "metadata": {
  "kernelspec": {
   "display_name": ".venv",
   "language": "python",
   "name": "python3"
  },
  "language_info": {
   "codemirror_mode": {
    "name": "ipython",
    "version": 3
   },
   "file_extension": ".py",
   "mimetype": "text/x-python",
   "name": "python",
   "nbconvert_exporter": "python",
   "pygments_lexer": "ipython3",
   "version": "3.13.2"
  }
 },
 "nbformat": 4,
 "nbformat_minor": 2
}
