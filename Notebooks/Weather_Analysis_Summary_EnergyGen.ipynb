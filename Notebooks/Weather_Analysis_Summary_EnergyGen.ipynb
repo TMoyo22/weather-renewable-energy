{
 "cells": [
  {
   "cell_type": "markdown",
   "id": "9e219b3c",
   "metadata": {},
   "source": [
    "# Weather Effects on Solar Energy Output\n",
    "Statistical Analysis Summary"
   ]
  },
  {
   "cell_type": "markdown",
   "id": "e8c7b3b5",
   "metadata": {},
   "source": [
    "## 1. Visualizing Distributions\n",
    "Violin plots and boxplots were used to show how weather factors—**rain**, **snow**, and **wind speed**—affect **Energy Delta**. These plots reveal energy production patterns under various weather conditions and highlight the effects of extreme weather."
   ]
  },
  {
   "cell_type": "code",
   "execution_count": null,
   "id": "79ae3345",
   "metadata": {},
   "outputs": [],
   "source": [
    "import pandas as pd\n",
    "import seaborn as sns\n",
    "import matplotlib.pyplot as plt\n",
    "\n",
    "sns.set(style=\"whitegrid\")\n",
    "sns.set(style=\"whitegrid\", context=\"notebook\")\n",
    "\n",
    "df = pd.read_csv(\"Renewable_Cleaned.csv\")\n",
    "df.head()\n",
    "df.rename(columns={\"Energy delta[Wh]\": \"Energy_Delta\"}, inplace=True)\n"
   ]
  },
  {
   "cell_type": "code",
   "execution_count": null,
   "id": "57ccfdf0",
   "metadata": {},
   "outputs": [],
   "source": [
    "features = ['rain_1h', 'snow_1h', 'wind_speed']\n",
    "target = 'Energy delta[Wh]'\n",
    "\n",
    "# Scatter Plots\n",
    "weather_vars = ['humidity', 'temp', 'pressure', 'clouds_all']\n",
    "target_var = 'Energy_Delta'\n",
    "\n",
    "fig, axes = plt.subplots(nrows=3, ncols=2, figsize=(15, 15))\n",
    "\n",
    "# Scatter Plots\n",
    "plt.figure(figsize=(16, 10))\n",
    "for i, var in enumerate(weather_vars, 1):\n",
    "    plt.subplot(2, 2, i)\n",
    "    sns.scatterplot(data=df, x=var, y=target_var, alpha=0.3, edgecolor=None, color=\"royalblue\")\n",
    "    plt.title(f'Energy Delta vs {var}', fontsize=14)\n",
    "    plt.xlabel(var.capitalize(), fontsize=12)\n",
    "    plt.ylabel(\"Energy Delta [Wh]\", fontsize=12)\n",
    "plt.tight_layout()\n",
    "plt.show()\n",
    "\n",
    "# Correlation Heatmap\n",
    "plt.figure(figsize=(8, 6))\n",
    "corr = df[[target_var] + weather_vars].corr()\n",
    "\n",
    "sns.heatmap(corr, annot=True, cmap='coolwarm', fmt=\".2f\", linewidths=0.5)\n",
    "plt.title(\"Correlation Heatmap: Weather Factors vs Energy Delta\", fontsize=14)\n",
    "plt.tight_layout()\n",
    "plt.show()\n",
    "\n",
    "\n",
    "for i, feature in enumerate(features):\n",
    "    sns.violinplot(x=feature, y=target, data=df, ax=axes[i, 0])\n",
    "    axes[i, 0].set_title(f'Violin Plot: {feature} vs. Energy Delta')\n",
    "\n",
    "    sns.boxplot(x=feature, y=target, data=df, ax=axes[i, 1])\n",
    "    axes[i, 1].set_title(f'Boxplot: {feature} vs. Energy Delta')\n",
    "\n",
    "plt.tight_layout()\n",
    "plt.show()"
   ]
  },
  {
   "cell_type": "markdown",
   "id": "623505da",
   "metadata": {},
   "source": [
    "## 2. Key Observations"
   ]
  },
  {
   "cell_type": "markdown",
   "id": "2c0031bc",
   "metadata": {},
   "source": [
    "### Rain:\n",
    "- No significant impact when there's no rain or light rain.\n",
    "- Heavy rain leads to lower Energy Delta."
   ]
  },
  {
   "cell_type": "markdown",
   "id": "f73709fc",
   "metadata": {},
   "source": [
    "### Snow:\n",
    "- No snow = normal energy distribution.\n",
    "- Moderate to heavy snow reduces energy significantly."
   ]
  },
  {
   "cell_type": "markdown",
   "id": "dc694973",
   "metadata": {},
   "source": [
    "### Wind Speed:\n",
    "- Light breeze doesn't affect energy much.\n",
    "- Strong wind lowers Energy Delta."
   ]
  },
  {
   "cell_type": "markdown",
   "id": "a48266ca",
   "metadata": {},
   "source": [
    "## 3. Boxplots Confirm Trends\n",
    "Boxplots validate violin plot findings by showing ranges and outliers under various weather intensities:\n",
    "- Heavy rain and snow reduce energy.\n",
    "- High wind speeds also correlate with lower Energy Delta."
   ]
  },
  {
   "cell_type": "markdown",
   "id": "ebc771cb",
   "metadata": {},
   "source": [
    "## 4. Analysis Summary"
   ]
  },
  {
   "cell_type": "markdown",
   "id": "5d09d19e",
   "metadata": {},
   "source": [
    "### 4.1 Distribution Analysis\n",
    "- **Rain (rain_1h):** Heavy rain reduces energy output.\n",
    "- **Snow (snow_1h):** Moderate to heavy snow lowers energy.\n",
    "- **Wind Speed (wind_speed):** Strong winds reduce Energy Delta."
   ]
  },
  {
   "cell_type": "markdown",
   "id": "ff3d856f",
   "metadata": {},
   "source": [
    "### 4.2 Extreme Weather Conditions\n",
    "- **Heavy Rain (>10 mm):** Consistently lowers energy.\n",
    "- **Heavy Snow (>5 mm):** Reduces output.\n",
    "- **Strong Wind (>10 m/s):** Causes significant energy drop."
   ]
  },
  {
   "cell_type": "markdown",
   "id": "0844e6f1",
   "metadata": {},
   "source": [
    "## 5. Final Conclusion\n",
    "Extreme weather—heavy rain, high winds, and snow—negatively impacts solar energy production. Understanding these patterns aids in smarter energy planning and usage forecasting."
   ]
  }
 ],
 "metadata": {
  "language_info": {
   "name": "python"
  }
 },
 "nbformat": 4,
 "nbformat_minor": 5
}
